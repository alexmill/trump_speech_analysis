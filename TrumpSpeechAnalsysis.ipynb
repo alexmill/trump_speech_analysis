{
 "cells": [
  {
   "cell_type": "code",
   "execution_count": 10,
   "metadata": {},
   "outputs": [],
   "source": [
    "%matplotlib inline\n",
    "import os\n",
    "import frontmatter\n",
    "import nltk\n",
    "from nltk.corpus import stopwords\n",
    "from nltk.stem import porter\n",
    "import re\n",
    "from collections import Counter, OrderedDict\n",
    "import numpy as np\n",
    "import matplotlib.pyplot as plt\n",
    "from datetime import datetime\n",
    "from pprint import pprint\n",
    "from tqdm import tqdm\n",
    "import pandas as pd"
   ]
  },
  {
   "cell_type": "code",
   "execution_count": 2,
   "metadata": {},
   "outputs": [],
   "source": [
    "files = [frontmatter.load(\"./transcripts/{}\".format(f)) for f in sorted(os.listdir(\"./transcripts\")) if not f.startswith(\".\")]"
   ]
  },
  {
   "cell_type": "code",
   "execution_count": 3,
   "metadata": {},
   "outputs": [],
   "source": [
    "docs = [frontmatter.load(\"./transcripts/{}\".format(transcript)).content for transcript in sorted(os.listdir(\"./transcripts\")) if not transcript.startswith(\".\")]"
   ]
  },
  {
   "cell_type": "code",
   "execution_count": 8,
   "metadata": {},
   "outputs": [
    {
     "data": {
      "text/plain": [
       "\"So nice, thank you very much. That's really nice. Thank you. It's great to be at Trump Tower. It's g\""
      ]
     },
     "execution_count": 8,
     "metadata": {},
     "output_type": "execute_result"
    }
   ],
   "source": [
    "docs[0][0:100]"
   ]
  },
  {
   "cell_type": "code",
   "execution_count": 11,
   "metadata": {},
   "outputs": [],
   "source": [
    "def sanitize(raw_string):\n",
    "    # Removes all non-alphanumeric characters\n",
    "    raw_string = re.sub(r\"e\\-ma\", 'ema', raw_string) \n",
    "    s = re.sub(r\"[^a-zA-Z0-9]+\", ' ', raw_string)   \n",
    "    \n",
    "    # Replace all numbers\n",
    "    s = re.sub(r\"\\d+\", ' # ', s)\n",
    "    \n",
    "    # Strip white space\n",
    "    out = \" \".join(s.split()).lower()\n",
    "    return(out)\n",
    "\n",
    "def get_tokens(text):\n",
    "    tokens = nltk.word_tokenize(text)\n",
    "    return(tokens)\n",
    "\n",
    "stemmer = porter.PorterStemmer()\n",
    "\n",
    "def stem_tokens(tokens):\n",
    "    stemmed = [stemmer.stem(t) for t in tokens]\n",
    "    return(stemmed)"
   ]
  },
  {
   "cell_type": "code",
   "execution_count": 13,
   "metadata": {},
   "outputs": [
    {
     "data": {
      "text/html": [
       "<div>\n",
       "<style>\n",
       "    .dataframe thead tr:only-child th {\n",
       "        text-align: right;\n",
       "    }\n",
       "\n",
       "    .dataframe thead th {\n",
       "        text-align: left;\n",
       "    }\n",
       "\n",
       "    .dataframe tbody tr th {\n",
       "        vertical-align: top;\n",
       "    }\n",
       "</style>\n",
       "<table border=\"1\" class=\"dataframe\">\n",
       "  <thead>\n",
       "    <tr style=\"text-align: right;\">\n",
       "      <th></th>\n",
       "      <th>DATETIME</th>\n",
       "      <th>length</th>\n",
       "      <th>type</th>\n",
       "    </tr>\n",
       "  </thead>\n",
       "  <tbody>\n",
       "    <tr>\n",
       "      <th>0</th>\n",
       "      <td>2015-06-16</td>\n",
       "      <td>8073</td>\n",
       "      <td>speech</td>\n",
       "    </tr>\n",
       "    <tr>\n",
       "      <th>1</th>\n",
       "      <td>2015-08-06</td>\n",
       "      <td>2451</td>\n",
       "      <td>debate</td>\n",
       "    </tr>\n",
       "    <tr>\n",
       "      <th>2</th>\n",
       "      <td>2015-09-16</td>\n",
       "      <td>4972</td>\n",
       "      <td>debate</td>\n",
       "    </tr>\n",
       "    <tr>\n",
       "      <th>3</th>\n",
       "      <td>2015-10-28</td>\n",
       "      <td>1864</td>\n",
       "      <td>debate</td>\n",
       "    </tr>\n",
       "    <tr>\n",
       "      <th>4</th>\n",
       "      <td>2015-11-10</td>\n",
       "      <td>2598</td>\n",
       "      <td>debate</td>\n",
       "    </tr>\n",
       "  </tbody>\n",
       "</table>\n",
       "</div>"
      ],
      "text/plain": [
       "    DATETIME  length    type\n",
       "0 2015-06-16    8073  speech\n",
       "1 2015-08-06    2451  debate\n",
       "2 2015-09-16    4972  debate\n",
       "3 2015-10-28    1864  debate\n",
       "4 2015-11-10    2598  debate"
      ]
     },
     "execution_count": 13,
     "metadata": {},
     "output_type": "execute_result"
    }
   ],
   "source": [
    "df = pd.DataFrame([f.metadata for f in files])\n",
    "df[\"DATETIME\"] = pd.to_datetime(df[\"date\"])\n",
    "lengths = [len(get_tokens(doc)) for doc in docs]\n",
    "df[\"length\"] = lengths\n",
    "lengths_df = df[[\"DATETIME\", \"length\", \"type\"]].sort_values(\"DATETIME\")\n",
    "lengths_df.head()"
   ]
  },
  {
   "cell_type": "code",
   "execution_count": 17,
   "metadata": {},
   "outputs": [],
   "source": [
    "def pre_process_docs(docs, stemmed=True):\n",
    "    documents = []\n",
    "    for i, doc in tqdm(enumerate(docs), position=0):\n",
    "        cleaned = sanitize(doc)\n",
    "        tokens = get_tokens(cleaned)\n",
    "        filtered = [w for w in tokens if not w in stopwords.words('english')]\n",
    "        if stemmed==False:\n",
    "            num_unique = len(filtered)\n",
    "            processed = \" \".join(filtered)\n",
    "        else:\n",
    "            stemmed = stem_tokens(filtered)\n",
    "            processed = \" \".join(stemmed)\n",
    "            num_unique = len(stemmed)\n",
    "        \n",
    "        documents.append(processed)\n",
    "        #print(\"{: >3} {: <35}: {: <5} tokens\".format(i, files[i].metadata[\"date\"], num_unique))\n",
    "    return(documents)"
   ]
  },
  {
   "cell_type": "markdown",
   "metadata": {},
   "source": [
    "# Sanitize/Tokenize Transcripts"
   ]
  },
  {
   "cell_type": "code",
   "execution_count": 18,
   "metadata": {},
   "outputs": [
    {
     "name": "stderr",
     "output_type": "stream",
     "text": [
      "\r",
      "0it [00:00, ?it/s]\r",
      "1it [00:01,  1.75s/it]\r",
      "2it [00:02,  1.38s/it]\r",
      "3it [00:03,  1.28s/it]\r",
      "4it [00:03,  1.02s/it]\r",
      "5it [00:04,  1.12it/s]\r",
      "6it [00:04,  1.27it/s]\r",
      "7it [00:05,  1.23it/s]\r",
      "8it [00:06,  1.22it/s]\r",
      "9it [00:07,  1.25it/s]\r",
      "10it [00:08,  1.05s/it]\r",
      "11it [00:10,  1.19s/it]\r",
      "12it [00:11,  1.24s/it]\r",
      "13it [00:12,  1.05s/it]\r",
      "14it [00:13,  1.01s/it]\r",
      "15it [00:14,  1.07it/s]\r",
      "16it [00:14,  1.13it/s]\r",
      "17it [00:15,  1.22it/s]\r",
      "18it [00:16,  1.12it/s]\r",
      "19it [00:17,  1.01s/it]\r",
      "20it [00:20,  1.41s/it]\r",
      "21it [00:21,  1.28s/it]\r",
      "22it [00:23,  1.45s/it]\r",
      "23it [00:25,  1.62s/it]\r",
      "24it [00:26,  1.48s/it]\r",
      "25it [00:27,  1.27s/it]\r",
      "26it [00:27,  1.14s/it]\r",
      "27it [00:28,  1.11s/it]\r",
      "28it [00:29,  1.05it/s]\r",
      "29it [00:30,  1.00it/s]\r",
      "30it [00:31,  1.18it/s]\r",
      "31it [00:32,  1.11s/it]\r",
      "32it [00:33,  1.13it/s]\r",
      "33it [00:33,  1.35it/s]\r",
      "34it [00:34,  1.45it/s]\r",
      "35it [00:34,  1.52it/s]\r",
      "36it [00:35,  1.51it/s]\r",
      "37it [00:36,  1.53it/s]\r",
      "38it [00:36,  1.68it/s]\r",
      "39it [00:36,  1.82it/s]\r",
      "40it [00:37,  1.96it/s]\r",
      "41it [00:38,  1.71it/s]\r",
      "42it [00:38,  1.88it/s]\r",
      "43it [00:38,  2.13it/s]\r",
      "44it [00:39,  2.17it/s]\r",
      "45it [00:39,  2.08it/s]\r",
      "46it [00:40,  2.02it/s]\r",
      "47it [00:42,  1.08it/s]\r",
      "48it [00:42,  1.25it/s]\r",
      "49it [00:43,  1.44it/s]\r",
      "50it [00:43,  1.50it/s]\r",
      "51it [00:44,  1.86it/s]\r",
      "52it [00:44,  1.71it/s]\r",
      "53it [00:45,  1.75it/s]\r",
      "54it [00:46,  1.16it/s]\r",
      "55it [00:47,  1.45it/s]\r",
      "56it [00:49,  1.12s/it]\r",
      "57it [00:49,  1.03it/s]\r",
      "58it [00:50,  1.25it/s]\r",
      "59it [00:50,  1.41it/s]\r",
      "60it [00:52,  1.13it/s]\r",
      "61it [00:53,  1.02s/it]\r",
      "62it [00:53,  1.15it/s]\r",
      "63it [00:54,  1.35it/s]\r",
      "64it [00:55,  1.18it/s]\r",
      "65it [00:55,  1.36it/s]\r",
      "66it [00:56,  1.45it/s]\r",
      "67it [00:57,  1.30it/s]\r",
      "68it [00:58,  1.07it/s]\r",
      "69it [00:59,  1.21it/s]\r",
      "70it [01:00,  1.30it/s]\r",
      "71it [01:00,  1.41it/s]\r",
      "72it [01:01,  1.17it/s]\r",
      "73it [01:03,  1.06s/it]\r",
      "74it [01:03,  1.17it/s]\n"
     ]
    }
   ],
   "source": [
    "transcripts = pre_process_docs(docs)"
   ]
  },
  {
   "cell_type": "markdown",
   "metadata": {},
   "source": [
    "# Generate Term Frequency Matrix"
   ]
  },
  {
   "cell_type": "code",
   "execution_count": 19,
   "metadata": {},
   "outputs": [],
   "source": [
    "import pandas as pd\n",
    "df = pd.DataFrame([f.metadata for f in files])\n",
    "df[\"DATETIME\"] = pd.to_datetime(df[\"date\"])\n",
    "del df[\"date\"]\n",
    "from copy import deepcopy\n",
    "pdf = deepcopy(df)"
   ]
  },
  {
   "cell_type": "code",
   "execution_count": 20,
   "metadata": {},
   "outputs": [],
   "source": [
    "from sklearn.feature_extraction.text import TfidfVectorizer, CountVectorizer\n",
    "\n",
    "tf_vectorizer = CountVectorizer(max_features=10000, stop_words='english')\n",
    "tf = tf_vectorizer.fit_transform(transcripts)\n",
    "tf_feature_names = tf_vectorizer.get_feature_names()\n",
    "\n",
    "tfidf_vectorizer = TfidfVectorizer(max_features=10000, stop_words='english')\n",
    "tfidf = tfidf_vectorizer.fit_transform(transcripts)\n",
    "tfidf_feature_names = tfidf_vectorizer.get_feature_names()"
   ]
  },
  {
   "cell_type": "code",
   "execution_count": 21,
   "metadata": {},
   "outputs": [
    {
     "data": {
      "text/html": [
       "<div>\n",
       "<style>\n",
       "    .dataframe thead tr:only-child th {\n",
       "        text-align: right;\n",
       "    }\n",
       "\n",
       "    .dataframe thead th {\n",
       "        text-align: left;\n",
       "    }\n",
       "\n",
       "    .dataframe tbody tr th {\n",
       "        vertical-align: top;\n",
       "    }\n",
       "</style>\n",
       "<table border=\"1\" class=\"dataframe\">\n",
       "  <thead>\n",
       "    <tr style=\"text-align: right;\">\n",
       "      <th></th>\n",
       "      <th>abandon</th>\n",
       "      <th>abat</th>\n",
       "      <th>abba</th>\n",
       "      <th>abc</th>\n",
       "      <th>abdullah</th>\n",
       "      <th>abe</th>\n",
       "      <th>abid</th>\n",
       "      <th>abil</th>\n",
       "      <th>abject</th>\n",
       "      <th>abl</th>\n",
       "      <th>...</th>\n",
       "      <th>yorker</th>\n",
       "      <th>young</th>\n",
       "      <th>younger</th>\n",
       "      <th>youngest</th>\n",
       "      <th>youth</th>\n",
       "      <th>yuma</th>\n",
       "      <th>zealot</th>\n",
       "      <th>zero</th>\n",
       "      <th>zone</th>\n",
       "      <th>DATETIME</th>\n",
       "    </tr>\n",
       "  </thead>\n",
       "  <tbody>\n",
       "    <tr>\n",
       "      <th>0</th>\n",
       "      <td>1</td>\n",
       "      <td>0</td>\n",
       "      <td>0</td>\n",
       "      <td>0</td>\n",
       "      <td>0</td>\n",
       "      <td>0</td>\n",
       "      <td>0</td>\n",
       "      <td>0</td>\n",
       "      <td>0</td>\n",
       "      <td>0</td>\n",
       "      <td>...</td>\n",
       "      <td>0</td>\n",
       "      <td>2</td>\n",
       "      <td>0</td>\n",
       "      <td>0</td>\n",
       "      <td>0</td>\n",
       "      <td>0</td>\n",
       "      <td>0</td>\n",
       "      <td>6</td>\n",
       "      <td>0</td>\n",
       "      <td>2015-06-16</td>\n",
       "    </tr>\n",
       "    <tr>\n",
       "      <th>1</th>\n",
       "      <td>0</td>\n",
       "      <td>0</td>\n",
       "      <td>0</td>\n",
       "      <td>0</td>\n",
       "      <td>0</td>\n",
       "      <td>0</td>\n",
       "      <td>0</td>\n",
       "      <td>0</td>\n",
       "      <td>0</td>\n",
       "      <td>0</td>\n",
       "      <td>...</td>\n",
       "      <td>0</td>\n",
       "      <td>0</td>\n",
       "      <td>0</td>\n",
       "      <td>0</td>\n",
       "      <td>0</td>\n",
       "      <td>0</td>\n",
       "      <td>0</td>\n",
       "      <td>0</td>\n",
       "      <td>0</td>\n",
       "      <td>2015-08-06</td>\n",
       "    </tr>\n",
       "    <tr>\n",
       "      <th>2</th>\n",
       "      <td>0</td>\n",
       "      <td>0</td>\n",
       "      <td>0</td>\n",
       "      <td>0</td>\n",
       "      <td>0</td>\n",
       "      <td>0</td>\n",
       "      <td>0</td>\n",
       "      <td>1</td>\n",
       "      <td>0</td>\n",
       "      <td>1</td>\n",
       "      <td>...</td>\n",
       "      <td>0</td>\n",
       "      <td>0</td>\n",
       "      <td>0</td>\n",
       "      <td>0</td>\n",
       "      <td>0</td>\n",
       "      <td>0</td>\n",
       "      <td>0</td>\n",
       "      <td>1</td>\n",
       "      <td>0</td>\n",
       "      <td>2015-09-16</td>\n",
       "    </tr>\n",
       "    <tr>\n",
       "      <th>3</th>\n",
       "      <td>0</td>\n",
       "      <td>0</td>\n",
       "      <td>0</td>\n",
       "      <td>0</td>\n",
       "      <td>0</td>\n",
       "      <td>0</td>\n",
       "      <td>0</td>\n",
       "      <td>0</td>\n",
       "      <td>0</td>\n",
       "      <td>0</td>\n",
       "      <td>...</td>\n",
       "      <td>0</td>\n",
       "      <td>0</td>\n",
       "      <td>0</td>\n",
       "      <td>0</td>\n",
       "      <td>0</td>\n",
       "      <td>0</td>\n",
       "      <td>0</td>\n",
       "      <td>0</td>\n",
       "      <td>0</td>\n",
       "      <td>2015-10-28</td>\n",
       "    </tr>\n",
       "    <tr>\n",
       "      <th>4</th>\n",
       "      <td>0</td>\n",
       "      <td>0</td>\n",
       "      <td>0</td>\n",
       "      <td>0</td>\n",
       "      <td>0</td>\n",
       "      <td>0</td>\n",
       "      <td>0</td>\n",
       "      <td>0</td>\n",
       "      <td>0</td>\n",
       "      <td>1</td>\n",
       "      <td>...</td>\n",
       "      <td>0</td>\n",
       "      <td>0</td>\n",
       "      <td>0</td>\n",
       "      <td>0</td>\n",
       "      <td>0</td>\n",
       "      <td>0</td>\n",
       "      <td>0</td>\n",
       "      <td>0</td>\n",
       "      <td>0</td>\n",
       "      <td>2015-11-10</td>\n",
       "    </tr>\n",
       "  </tbody>\n",
       "</table>\n",
       "<p>5 rows × 4913 columns</p>\n",
       "</div>"
      ],
      "text/plain": [
       "   abandon  abat  abba  abc  abdullah  abe  abid  abil  abject  abl  \\\n",
       "0        1     0     0    0         0    0     0     0       0    0   \n",
       "1        0     0     0    0         0    0     0     0       0    0   \n",
       "2        0     0     0    0         0    0     0     1       0    1   \n",
       "3        0     0     0    0         0    0     0     0       0    0   \n",
       "4        0     0     0    0         0    0     0     0       0    1   \n",
       "\n",
       "     ...      yorker  young  younger  youngest  youth  yuma  zealot  zero  \\\n",
       "0    ...           0      2        0         0      0     0       0     6   \n",
       "1    ...           0      0        0         0      0     0       0     0   \n",
       "2    ...           0      0        0         0      0     0       0     1   \n",
       "3    ...           0      0        0         0      0     0       0     0   \n",
       "4    ...           0      0        0         0      0     0       0     0   \n",
       "\n",
       "   zone   DATETIME  \n",
       "0     0 2015-06-16  \n",
       "1     0 2015-08-06  \n",
       "2     0 2015-09-16  \n",
       "3     0 2015-10-28  \n",
       "4     0 2015-11-10  \n",
       "\n",
       "[5 rows x 4913 columns]"
      ]
     },
     "execution_count": 21,
     "metadata": {},
     "output_type": "execute_result"
    }
   ],
   "source": [
    "speech_tf = pd.DataFrame(tf.todense(), columns=tf_vectorizer.get_feature_names())\n",
    "speech_tf[\"DATETIME\"] = pdf[\"DATETIME\"]\n",
    "speech_tf.head()"
   ]
  },
  {
   "cell_type": "markdown",
   "metadata": {},
   "source": [
    "# Combine TF matrix with datetimes; aggregate by time period"
   ]
  },
  {
   "cell_type": "code",
   "execution_count": 22,
   "metadata": {},
   "outputs": [],
   "source": [
    "fulldf = pd.merge(pdf, speech_tf, on=\"DATETIME\")#.set_index(\"DATE\")\n",
    "\n",
    "fulldf[\"year_week\"] = fulldf.apply(lambda row: \"{}_{}\".format(row[\"DATETIME\"].year, row[\"DATETIME\"].isocalendar()[1]), 1)\n",
    "fulldf[\"year_month\"] = fulldf.apply(lambda row: \"{}_{}\".format(row[\"DATETIME\"].year, row[\"DATETIME\"].month), 1)\n",
    "\n",
    "speech_weeks = fulldf.groupby(\"year_week\").sum()\n",
    "speech_weeks[\"DATETIME\"] = speech_weeks.apply(lambda row: datetime.strptime(row.name + '-0', \"%Y_%W-%w\"), 1)\n",
    "speech_weeks = speech_weeks.sort_values(\"DATETIME\")\n",
    "\n",
    "speech_months = fulldf.groupby(\"year_month\").sum()\n",
    "speech_months[\"DATETIME\"] = speech_months.apply(lambda row: datetime(int(row.name.split(\"_\")[0]), int(row.name.split(\"_\")[1]), 15), 1)\n",
    "speech_months = speech_months.sort_values(\"DATETIME\")"
   ]
  },
  {
   "cell_type": "markdown",
   "metadata": {},
   "source": [
    "# Calculate term _proportion_ matrix"
   ]
  },
  {
   "cell_type": "code",
   "execution_count": 23,
   "metadata": {},
   "outputs": [],
   "source": [
    "speech_weeks_pct = fulldf.groupby(\"year_week\").sum()\n",
    "speech_weeks_pct = speech_weeks_pct.apply(lambda col: col.divide(speech_weeks_pct.sum(1)), 0)*100\n",
    "speech_weeks_pct[\"DATETIME\"] = speech_weeks_pct.apply(lambda row: datetime.strptime(row.name + '-0', \"%Y_%W-%w\"), 1)\n",
    "speech_weeks_pct = speech_weeks_pct.sort_values(\"DATETIME\")\n",
    "\n",
    "speech_months_pct = fulldf.groupby(\"year_month\").sum()\n",
    "speech_months_pct = speech_months_pct.apply(lambda col: col.divide(speech_months_pct.sum(1)), 0)*100\n",
    "speech_months_pct[\"DATETIME\"] = speech_months_pct.apply(lambda row: datetime(int(row.name.split(\"_\")[0]), int(row.name.split(\"_\")[1]), 1), 1)\n",
    "speech_months_pct = speech_months_pct.sort_values(\"DATETIME\")"
   ]
  },
  {
   "cell_type": "code",
   "execution_count": 25,
   "metadata": {},
   "outputs": [
    {
     "data": {
      "text/plain": [
       "year_month\n",
       "2015_6     0.000000\n",
       "2015_8     0.000000\n",
       "2015_9     0.000000\n",
       "2015_10    0.000000\n",
       "2015_11    0.000000\n",
       "2015_12    0.000000\n",
       "2016_1     0.000000\n",
       "2016_2     0.021322\n",
       "2016_3     0.000000\n",
       "2016_4     0.000000\n",
       "2016_6     0.176491\n",
       "2016_7     0.220308\n",
       "2016_8     0.145849\n",
       "2016_9     0.179480\n",
       "2016_10    0.326653\n",
       "2016_11    0.213886\n",
       "Name: email, dtype: float64"
      ]
     },
     "execution_count": 25,
     "metadata": {},
     "output_type": "execute_result"
    }
   ],
   "source": [
    "speech_months_pct[\"email\"]"
   ]
  },
  {
   "cell_type": "markdown",
   "metadata": {},
   "source": [
    "# Plot the data!"
   ]
  },
  {
   "cell_type": "code",
   "execution_count": 29,
   "metadata": {},
   "outputs": [
    {
     "data": {
      "image/png": "[encoded data removed]",
      "text/plain": [
       "<matplotlib.figure.Figure at 0x104a9e48>"
      ]
     },
     "metadata": {},
     "output_type": "display_data"
    },
    {
     "data": {
      "text/plain": [
       "<ggplot: (17078599)>"
      ]
     },
     "execution_count": 29,
     "metadata": {},
     "output_type": "execute_result"
    }
   ],
   "source": [
    "from ggplot import *\n",
    "\n",
    "words = [\"russia\", \"putin\"]\n",
    "plot_data = speech_months_pct.loc[:,[\"DATETIME\"] + words]\n",
    "plot_data[\"count\"] = plot_data.loc[:,words].sum(1)\n",
    "\n",
    "ggplot(aes(x='DATETIME', y='count'), data=plot_data) + \\\n",
    "    geom_line(color=\"red\") + geom_point(color=\"red\", size=50)"
   ]
  },
  {
   "cell_type": "code",
   "execution_count": 28,
   "metadata": {},
   "outputs": [
    {
     "data": {
      "image/png": "[encoded data removed]",
      "text/plain": [
       "<matplotlib.figure.Figure at 0x10408898>"
      ]
     },
     "metadata": {},
     "output_type": "display_data"
    },
    {
     "data": {
      "text/plain": [
       "<ggplot: (-9223372036838007843)>"
      ]
     },
     "execution_count": 28,
     "metadata": {},
     "output_type": "execute_result"
    }
   ],
   "source": [
    "words = [\"email\"]\n",
    "plot_data = speech_months_pct.loc[:,[\"DATETIME\"] + words]\n",
    "plot_data[\"count\"] = plot_data.loc[:,words].sum(1)\n",
    "\n",
    "ggplot(aes(x='DATETIME', y='count'), data=plot_data) + \\\n",
    "    geom_line(color=\"red\") + geom_point(color=\"red\", size=50)"
   ]
  },
  {
   "cell_type": "code",
   "execution_count": null,
   "metadata": {},
   "outputs": [],
   "source": []
  }
 ],
 "metadata": {
  "kernelspec": {
   "display_name": "Python 3",
   "language": "python",
   "name": "python3"
  },
  "language_info": {
   "codemirror_mode": {
    "name": "ipython",
    "version": 3
   },
   "file_extension": ".py",
   "mimetype": "text/x-python",
   "name": "python",
   "nbconvert_exporter": "python",
   "pygments_lexer": "ipython3",
   "version": "3.6.1"
  }
 },
 "nbformat": 4,
 "nbformat_minor": 2
}
